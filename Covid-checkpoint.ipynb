{
 "cells": [
  {
   "cell_type": "code",
   "execution_count": 40,
   "metadata": {},
   "outputs": [],
   "source": [
    "import pandas as pd\n",
    "import numpy as np\n",
    "import matplotlib.pyplot as plt\n",
    "import seaborn as sns\n",
    "%matplotlib inline"
   ]
  },
  {
   "cell_type": "code",
   "execution_count": 41,
   "metadata": {},
   "outputs": [],
   "source": [
    "covid = pd.read_csv(\"Covid.csv\")\n"
   ]
  },
  {
   "cell_type": "code",
   "execution_count": 42,
   "metadata": {},
   "outputs": [
    {
     "data": {
      "text/html": [
       "<div>\n",
       "<style scoped>\n",
       "    .dataframe tbody tr th:only-of-type {\n",
       "        vertical-align: middle;\n",
       "    }\n",
       "\n",
       "    .dataframe tbody tr th {\n",
       "        vertical-align: top;\n",
       "    }\n",
       "\n",
       "    .dataframe thead th {\n",
       "        text-align: right;\n",
       "    }\n",
       "</style>\n",
       "<table border=\"1\" class=\"dataframe\">\n",
       "  <thead>\n",
       "    <tr style=\"text-align: right;\">\n",
       "      <th></th>\n",
       "      <th>State/UTs</th>\n",
       "      <th>Total Cases</th>\n",
       "      <th>Active</th>\n",
       "      <th>Discharged</th>\n",
       "      <th>Deaths</th>\n",
       "      <th>Active Ratio (%)</th>\n",
       "      <th>Discharge Ratio (%)</th>\n",
       "      <th>Death Ratio (%)</th>\n",
       "    </tr>\n",
       "  </thead>\n",
       "  <tbody>\n",
       "    <tr>\n",
       "      <th>0</th>\n",
       "      <td>Andaman and Nicobar</td>\n",
       "      <td>7549</td>\n",
       "      <td>1</td>\n",
       "      <td>7419</td>\n",
       "      <td>129</td>\n",
       "      <td>0.01</td>\n",
       "      <td>98.28</td>\n",
       "      <td>1.71</td>\n",
       "    </tr>\n",
       "    <tr>\n",
       "      <th>1</th>\n",
       "      <td>Andhra Pradesh</td>\n",
       "      <td>1995669</td>\n",
       "      <td>16341</td>\n",
       "      <td>1965657</td>\n",
       "      <td>13671</td>\n",
       "      <td>0.82</td>\n",
       "      <td>98.50</td>\n",
       "      <td>0.69</td>\n",
       "    </tr>\n",
       "    <tr>\n",
       "      <th>2</th>\n",
       "      <td>Arunachal Pradesh</td>\n",
       "      <td>51655</td>\n",
       "      <td>1763</td>\n",
       "      <td>49640</td>\n",
       "      <td>252</td>\n",
       "      <td>3.41</td>\n",
       "      <td>96.10</td>\n",
       "      <td>0.49</td>\n",
       "    </tr>\n",
       "    <tr>\n",
       "      <th>3</th>\n",
       "      <td>Assam</td>\n",
       "      <td>581398</td>\n",
       "      <td>8772</td>\n",
       "      <td>567113</td>\n",
       "      <td>5513</td>\n",
       "      <td>1.51</td>\n",
       "      <td>97.54</td>\n",
       "      <td>0.95</td>\n",
       "    </tr>\n",
       "    <tr>\n",
       "      <th>4</th>\n",
       "      <td>Bihar</td>\n",
       "      <td>725518</td>\n",
       "      <td>204</td>\n",
       "      <td>715665</td>\n",
       "      <td>9649</td>\n",
       "      <td>0.03</td>\n",
       "      <td>98.64</td>\n",
       "      <td>1.33</td>\n",
       "    </tr>\n",
       "  </tbody>\n",
       "</table>\n",
       "</div>"
      ],
      "text/plain": [
       "             State/UTs  Total Cases  Active  Discharged  Deaths  \\\n",
       "0  Andaman and Nicobar         7549       1        7419     129   \n",
       "1       Andhra Pradesh      1995669   16341     1965657   13671   \n",
       "2    Arunachal Pradesh        51655    1763       49640     252   \n",
       "3                Assam       581398    8772      567113    5513   \n",
       "4                Bihar       725518     204      715665    9649   \n",
       "\n",
       "   Active Ratio (%)  Discharge Ratio (%)  Death Ratio (%)  \n",
       "0              0.01                98.28             1.71  \n",
       "1              0.82                98.50             0.69  \n",
       "2              3.41                96.10             0.49  \n",
       "3              1.51                97.54             0.95  \n",
       "4              0.03                98.64             1.33  "
      ]
     },
     "execution_count": 42,
     "metadata": {},
     "output_type": "execute_result"
    }
   ],
   "source": [
    "covid.head()"
   ]
  },
  {
   "cell_type": "code",
   "execution_count": 43,
   "metadata": {},
   "outputs": [
    {
     "data": {
      "text/html": [
       "<div>\n",
       "<style scoped>\n",
       "    .dataframe tbody tr th:only-of-type {\n",
       "        vertical-align: middle;\n",
       "    }\n",
       "\n",
       "    .dataframe tbody tr th {\n",
       "        vertical-align: top;\n",
       "    }\n",
       "\n",
       "    .dataframe thead th {\n",
       "        text-align: right;\n",
       "    }\n",
       "</style>\n",
       "<table border=\"1\" class=\"dataframe\">\n",
       "  <thead>\n",
       "    <tr style=\"text-align: right;\">\n",
       "      <th></th>\n",
       "      <th>State/UTs</th>\n",
       "      <th>Total Cases</th>\n",
       "      <th>Active</th>\n",
       "      <th>Discharged</th>\n",
       "      <th>Deaths</th>\n",
       "      <th>Active Ratio (%)</th>\n",
       "      <th>Discharge Ratio (%)</th>\n",
       "      <th>Death Ratio (%)</th>\n",
       "    </tr>\n",
       "  </thead>\n",
       "  <tbody>\n",
       "    <tr>\n",
       "      <th>31</th>\n",
       "      <td>Telengana</td>\n",
       "      <td>653202</td>\n",
       "      <td>6939</td>\n",
       "      <td>642416</td>\n",
       "      <td>3847</td>\n",
       "      <td>1.06</td>\n",
       "      <td>98.35</td>\n",
       "      <td>0.59</td>\n",
       "    </tr>\n",
       "    <tr>\n",
       "      <th>32</th>\n",
       "      <td>Tripura</td>\n",
       "      <td>81584</td>\n",
       "      <td>1436</td>\n",
       "      <td>79366</td>\n",
       "      <td>782</td>\n",
       "      <td>1.76</td>\n",
       "      <td>97.28</td>\n",
       "      <td>0.96</td>\n",
       "    </tr>\n",
       "    <tr>\n",
       "      <th>33</th>\n",
       "      <td>Uttar Pradesh</td>\n",
       "      <td>1708991</td>\n",
       "      <td>420</td>\n",
       "      <td>1685785</td>\n",
       "      <td>22786</td>\n",
       "      <td>0.02</td>\n",
       "      <td>98.64</td>\n",
       "      <td>1.33</td>\n",
       "    </tr>\n",
       "    <tr>\n",
       "      <th>34</th>\n",
       "      <td>Uttarakhand</td>\n",
       "      <td>342637</td>\n",
       "      <td>330</td>\n",
       "      <td>334934</td>\n",
       "      <td>7373</td>\n",
       "      <td>0.10</td>\n",
       "      <td>97.75</td>\n",
       "      <td>2.15</td>\n",
       "    </tr>\n",
       "    <tr>\n",
       "      <th>35</th>\n",
       "      <td>West Bengal</td>\n",
       "      <td>1539612</td>\n",
       "      <td>9736</td>\n",
       "      <td>1511558</td>\n",
       "      <td>18318</td>\n",
       "      <td>0.63</td>\n",
       "      <td>98.18</td>\n",
       "      <td>1.19</td>\n",
       "    </tr>\n",
       "  </tbody>\n",
       "</table>\n",
       "</div>"
      ],
      "text/plain": [
       "        State/UTs  Total Cases  Active  Discharged  Deaths  Active Ratio (%)  \\\n",
       "31      Telengana       653202    6939      642416    3847              1.06   \n",
       "32        Tripura        81584    1436       79366     782              1.76   \n",
       "33  Uttar Pradesh      1708991     420     1685785   22786              0.02   \n",
       "34    Uttarakhand       342637     330      334934    7373              0.10   \n",
       "35    West Bengal      1539612    9736     1511558   18318              0.63   \n",
       "\n",
       "    Discharge Ratio (%)  Death Ratio (%)  \n",
       "31                98.35             0.59  \n",
       "32                97.28             0.96  \n",
       "33                98.64             1.33  \n",
       "34                97.75             2.15  \n",
       "35                98.18             1.19  "
      ]
     },
     "execution_count": 43,
     "metadata": {},
     "output_type": "execute_result"
    }
   ],
   "source": [
    "covid.tail()"
   ]
  },
  {
   "cell_type": "code",
   "execution_count": 44,
   "metadata": {},
   "outputs": [
    {
     "data": {
      "text/plain": [
       "Index(['State/UTs', 'Total Cases', 'Active', 'Discharged', 'Deaths',\n",
       "       'Active Ratio (%)', 'Discharge Ratio (%)', 'Death Ratio (%)'],\n",
       "      dtype='object')"
      ]
     },
     "execution_count": 44,
     "metadata": {},
     "output_type": "execute_result"
    }
   ],
   "source": [
    "covid.columns"
   ]
  },
  {
   "cell_type": "code",
   "execution_count": 45,
   "metadata": {},
   "outputs": [
    {
     "data": {
      "text/html": [
       "<div>\n",
       "<style scoped>\n",
       "    .dataframe tbody tr th:only-of-type {\n",
       "        vertical-align: middle;\n",
       "    }\n",
       "\n",
       "    .dataframe tbody tr th {\n",
       "        vertical-align: top;\n",
       "    }\n",
       "\n",
       "    .dataframe thead th {\n",
       "        text-align: right;\n",
       "    }\n",
       "</style>\n",
       "<table border=\"1\" class=\"dataframe\">\n",
       "  <thead>\n",
       "    <tr style=\"text-align: right;\">\n",
       "      <th></th>\n",
       "      <th>Total Cases</th>\n",
       "      <th>Active</th>\n",
       "      <th>Discharged</th>\n",
       "      <th>Deaths</th>\n",
       "      <th>Active Ratio (%)</th>\n",
       "      <th>Discharge Ratio (%)</th>\n",
       "      <th>Death Ratio (%)</th>\n",
       "    </tr>\n",
       "  </thead>\n",
       "  <tbody>\n",
       "    <tr>\n",
       "      <th>count</th>\n",
       "      <td>3.600000e+01</td>\n",
       "      <td>36.000000</td>\n",
       "      <td>3.600000e+01</td>\n",
       "      <td>36.000000</td>\n",
       "      <td>36.000000</td>\n",
       "      <td>36.000000</td>\n",
       "      <td>36.000000</td>\n",
       "    </tr>\n",
       "    <tr>\n",
       "      <th>mean</th>\n",
       "      <td>8.968294e+05</td>\n",
       "      <td>10205.972222</td>\n",
       "      <td>8.746090e+05</td>\n",
       "      <td>12014.416667</td>\n",
       "      <td>1.682222</td>\n",
       "      <td>97.052222</td>\n",
       "      <td>1.265000</td>\n",
       "    </tr>\n",
       "    <tr>\n",
       "      <th>std</th>\n",
       "      <td>1.303563e+06</td>\n",
       "      <td>30660.005408</td>\n",
       "      <td>1.262310e+06</td>\n",
       "      <td>23205.834381</td>\n",
       "      <td>3.335660</td>\n",
       "      <td>3.239175</td>\n",
       "      <td>0.564464</td>\n",
       "    </tr>\n",
       "    <tr>\n",
       "      <th>min</th>\n",
       "      <td>7.549000e+03</td>\n",
       "      <td>1.000000</td>\n",
       "      <td>7.419000e+03</td>\n",
       "      <td>4.000000</td>\n",
       "      <td>0.010000</td>\n",
       "      <td>81.440000</td>\n",
       "      <td>0.040000</td>\n",
       "    </tr>\n",
       "    <tr>\n",
       "      <th>25%</th>\n",
       "      <td>6.981775e+04</td>\n",
       "      <td>213.750000</td>\n",
       "      <td>6.598125e+04</td>\n",
       "      <td>803.750000</td>\n",
       "      <td>0.067500</td>\n",
       "      <td>97.150000</td>\n",
       "      <td>0.947500</td>\n",
       "    </tr>\n",
       "    <tr>\n",
       "      <th>50%</th>\n",
       "      <td>4.645165e+05</td>\n",
       "      <td>1062.500000</td>\n",
       "      <td>4.546995e+05</td>\n",
       "      <td>5322.500000</td>\n",
       "      <td>0.570000</td>\n",
       "      <td>98.200000</td>\n",
       "      <td>1.320000</td>\n",
       "    </tr>\n",
       "    <tr>\n",
       "      <th>75%</th>\n",
       "      <td>9.980822e+05</td>\n",
       "      <td>7369.500000</td>\n",
       "      <td>9.826742e+05</td>\n",
       "      <td>13579.500000</td>\n",
       "      <td>1.337500</td>\n",
       "      <td>98.597500</td>\n",
       "      <td>1.607500</td>\n",
       "    </tr>\n",
       "    <tr>\n",
       "      <th>max</th>\n",
       "      <td>6.401213e+06</td>\n",
       "      <td>175695.000000</td>\n",
       "      <td>6.201168e+06</td>\n",
       "      <td>135255.000000</td>\n",
       "      <td>18.190000</td>\n",
       "      <td>99.920000</td>\n",
       "      <td>2.720000</td>\n",
       "    </tr>\n",
       "  </tbody>\n",
       "</table>\n",
       "</div>"
      ],
      "text/plain": [
       "        Total Cases         Active    Discharged         Deaths  \\\n",
       "count  3.600000e+01      36.000000  3.600000e+01      36.000000   \n",
       "mean   8.968294e+05   10205.972222  8.746090e+05   12014.416667   \n",
       "std    1.303563e+06   30660.005408  1.262310e+06   23205.834381   \n",
       "min    7.549000e+03       1.000000  7.419000e+03       4.000000   \n",
       "25%    6.981775e+04     213.750000  6.598125e+04     803.750000   \n",
       "50%    4.645165e+05    1062.500000  4.546995e+05    5322.500000   \n",
       "75%    9.980822e+05    7369.500000  9.826742e+05   13579.500000   \n",
       "max    6.401213e+06  175695.000000  6.201168e+06  135255.000000   \n",
       "\n",
       "       Active Ratio (%)  Discharge Ratio (%)  Death Ratio (%)  \n",
       "count         36.000000            36.000000        36.000000  \n",
       "mean           1.682222            97.052222         1.265000  \n",
       "std            3.335660             3.239175         0.564464  \n",
       "min            0.010000            81.440000         0.040000  \n",
       "25%            0.067500            97.150000         0.947500  \n",
       "50%            0.570000            98.200000         1.320000  \n",
       "75%            1.337500            98.597500         1.607500  \n",
       "max           18.190000            99.920000         2.720000  "
      ]
     },
     "execution_count": 45,
     "metadata": {},
     "output_type": "execute_result"
    }
   ],
   "source": [
    "covid.describe()"
   ]
  },
  {
   "cell_type": "code",
   "execution_count": 46,
   "metadata": {},
   "outputs": [
    {
     "data": {
      "text/plain": [
       "State/UTs              0\n",
       "Total Cases            0\n",
       "Active                 0\n",
       "Discharged             0\n",
       "Deaths                 0\n",
       "Active Ratio (%)       0\n",
       "Discharge Ratio (%)    0\n",
       "Death Ratio (%)        0\n",
       "dtype: int64"
      ]
     },
     "execution_count": 46,
     "metadata": {},
     "output_type": "execute_result"
    }
   ],
   "source": [
    "covid.isnull().sum()"
   ]
  },
  {
   "cell_type": "markdown",
   "metadata": {},
   "source": [
    "# Total cases vs Deaths Ratio\n"
   ]
  },
  {
   "cell_type": "code",
   "execution_count": 72,
   "metadata": {},
   "outputs": [
    {
     "data": {
      "text/plain": [
       "<seaborn.axisgrid.FacetGrid at 0x19b27e420f0>"
      ]
     },
     "execution_count": 72,
     "metadata": {},
     "output_type": "execute_result"
    },
    {
     "data": {
      "image/png": "[encoded data removed]",
      "text/plain": [
       "<Figure size 452.875x360 with 1 Axes>"
      ]
     },
     "metadata": {
      "needs_background": "light"
     },
     "output_type": "display_data"
    }
   ],
   "source": [
    "sns.relplot(x=\"Deaths\" , y=\"Total Cases\",hue=\"Discharged\",data=covid)"
   ]
  },
  {
   "cell_type": "code",
   "execution_count": 75,
   "metadata": {},
   "outputs": [
    {
     "data": {
      "text/plain": [
       "<matplotlib.axes._subplots.AxesSubplot at 0x19b27ebbac8>"
      ]
     },
     "execution_count": 75,
     "metadata": {},
     "output_type": "execute_result"
    },
    {
     "data": {
      "image/png": "[encoded data removed]",
      "text/plain": [
       "<Figure size 432x288 with 1 Axes>"
      ]
     },
     "metadata": {
      "needs_background": "light"
     },
     "output_type": "display_data"
    }
   ],
   "source": [
    "\n",
    "sns.swarmplot(covid[\"Discharged\"] , covid[\"State/UTs\"])"
   ]
  },
  {
   "cell_type": "code",
   "execution_count": 82,
   "metadata": {},
   "outputs": [
    {
     "data": {
      "text/plain": [
       "<seaborn.axisgrid.JointGrid at 0x19b299c96d8>"
      ]
     },
     "execution_count": 82,
     "metadata": {},
     "output_type": "execute_result"
    },
    {
     "data": {
      "image/png": "[encoded data removed]",
      "text/plain": [
       "<Figure size 432x432 with 3 Axes>"
      ]
     },
     "metadata": {
      "needs_background": "light"
     },
     "output_type": "display_data"
    }
   ],
   "source": [
    "sns.jointplot(x = \"Active\", y=\"Deaths\",data= covid,kind='hex')"
   ]
  },
  {
   "cell_type": "code",
   "execution_count": null,
   "metadata": {},
   "outputs": [],
   "source": []
  }
 ],
 "metadata": {
  "kernelspec": {
   "display_name": "Python 3",
   "language": "python",
   "name": "python3"
  },
  "language_info": {
   "codemirror_mode": {
    "name": "ipython",
    "version": 3
   },
   "file_extension": ".py",
   "mimetype": "text/x-python",
   "name": "python",
   "nbconvert_exporter": "python",
   "pygments_lexer": "ipython3",
   "version": "3.7.1"
  }
 },
 "nbformat": 4,
 "nbformat_minor": 2
}
